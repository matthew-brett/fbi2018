{
 "cells": [
  {
   "cell_type": "markdown",
   "metadata": {},
   "source": [
    "# What is an image?\n",
    "\n",
    "In this page we explore the nature of NIfTI images.\n",
    "\n",
    "Before you start, please follow the instructions on [installing\n",
    "nibabel]({{ site.baseurl }}{% link install_nibabel.md %})\n",
    "\n",
    "First we load an example image to see if we can understand the image data.\n",
    "\n",
    "Download the image from <{{ site.url }}{{ site.baseurl }}/data/ds114_sub009_highres.nii>."
   ]
  },
  {
   "cell_type": "code",
   "execution_count": 1,
   "metadata": {},
   "outputs": [],
   "source": [
    "# This is a Python module\n",
    "import os  # module for interacting with the operating system"
   ]
  },
  {
   "cell_type": "markdown",
   "metadata": {},
   "source": [
    "If you want to explore modules or objects, type their name followed by a\n",
    "period, and press tab to see what functions or classes are available.\n",
    "\n",
    "The image we are going to explore should be the same directory as this\n",
    "exercise."
   ]
  },
  {
   "cell_type": "code",
   "execution_count": 2,
   "metadata": {},
   "outputs": [
    {
     "name": "stdout",
     "output_type": "stream",
     "text": [
      "/Volumes/dsfe/fbi2018/notebooks/01\n"
     ]
    }
   ],
   "source": [
    "# Get the current working directory (CWD)\n",
    "cwd = os.getcwd()\n",
    "print(cwd)"
   ]
  },
  {
   "cell_type": "code",
   "execution_count": 3,
   "metadata": {},
   "outputs": [
    {
     "name": "stdout",
     "output_type": "stream",
     "text": [
      "['intro.md', 'what_is_an_image.Rmd', 'what_is_an_image.ipynb', 'ds114_sub009_highres.nii']\n"
     ]
    }
   ],
   "source": [
    "# List files and directories in the current working directory\n",
    "print(os.listdir(cwd))"
   ]
  },
  {
   "cell_type": "markdown",
   "metadata": {},
   "source": [
    "Read the image into memory."
   ]
  },
  {
   "cell_type": "code",
   "execution_count": 4,
   "metadata": {},
   "outputs": [
    {
     "name": "stdout",
     "output_type": "stream",
     "text": [
      "<_io.BufferedReader name='ds114_sub009_highres.nii'>\n"
     ]
    }
   ],
   "source": [
    "# Open a file in Read Binary mode\n",
    "fobj = open('ds114_sub009_highres.nii', 'rb')\n",
    "print(fobj)"
   ]
  },
  {
   "cell_type": "code",
   "execution_count": 5,
   "metadata": {},
   "outputs": [],
   "source": [
    "# read all the characters into a variable in memory\n",
    "contents = fobj.read()"
   ]
  },
  {
   "cell_type": "markdown",
   "metadata": {},
   "source": [
    "Show the `type` of object is attached to this variable called `contents`:"
   ]
  },
  {
   "cell_type": "code",
   "execution_count": 6,
   "metadata": {},
   "outputs": [
    {
     "data": {
      "text/plain": [
       "bytes"
      ]
     },
     "execution_count": 6,
     "metadata": {},
     "output_type": "execute_result"
    }
   ],
   "source": [
    "type(contents)"
   ]
  },
  {
   "cell_type": "markdown",
   "metadata": {},
   "source": [
    "How big is this file in terms of bytes?"
   ]
  },
  {
   "cell_type": "code",
   "execution_count": 7,
   "metadata": {},
   "outputs": [
    {
     "data": {
      "text/plain": [
       "40894816"
      ]
     },
     "execution_count": 7,
     "metadata": {},
     "output_type": "execute_result"
    }
   ],
   "source": [
    "n_bytes = len(contents)\n",
    "n_bytes"
   ]
  },
  {
   "cell_type": "markdown",
   "metadata": {},
   "source": [
    "If 1 mebibyte (MiB) (http://en.wikipedia.org/wiki/Megabyte) is size 1024 \\*\n",
    "1024, what is the file size in MiB?"
   ]
  },
  {
   "cell_type": "code",
   "execution_count": 8,
   "metadata": {},
   "outputs": [
    {
     "data": {
      "text/plain": [
       "39.000335693359375"
      ]
     },
     "execution_count": 8,
     "metadata": {},
     "output_type": "execute_result"
    }
   ],
   "source": [
    "n_mib = n_bytes / (1024 * 1024)\n",
    "n_mib"
   ]
  },
  {
   "cell_type": "markdown",
   "metadata": {},
   "source": [
    "This is a [NIfTI1 format](http://nifti.nimh.nih.gov/nifti-1) file.  That means\n",
    "that the first 352 bytes contains the \"header\" that describes the parameters\n",
    "of the image and the data following.\n",
    "\n",
    "We want to print out the contents of the first 352 bytes of `contents`\n",
    "to have a look at it.\n",
    "\n",
    "To do this, we are going to need *string slicing* to get the first 352\n",
    "bytes:"
   ]
  },
  {
   "cell_type": "code",
   "execution_count": 9,
   "metadata": {},
   "outputs": [
    {
     "name": "stdout",
     "output_type": "stream",
     "text": [
      "b'\\\\\\x01\\x00\\x00\\x00\\x00\\x00\\x00\\x00\\x00\\x00\\x00\\x00\\x00\\x00\\x00\\x00\\x00\\x00\\x00\\x00\\x00\\x00\\x00\\x00\\x00\\x00\\x00\\x00\\x00\\x00\\x00\\x00\\x00\\x00\\x00\\x00\\x00r\\x00\\x03\\x00\\x00\\x01\\x9c\\x00\\x00\\x01\\x01\\x00\\x01\\x00\\x01\\x00\\x01\\x00\\x00\\x00\\x00\\x00\\x00\\x00\\x00\\x00\\x00\\x00\\x00\\x00\\x00\\x00\\x10\\x00 \\x00\\x00\\x00\\x00\\x00\\x80?\\x00\\x00\\x80?\\xafm\\xa6?\\x00\\x00\\x80?\\xa3@\\x1f<\\x00\\x00\\x00\\x00\\x00\\x00\\x00\\x00\\x00\\x00\\x00\\x00\\x00\\x00\\xb0C\\x00\\x00\\x80?\\x00\\x00\\x00\\x00\\x00\\x00\\x00\\n\\x00\\x00\\x00\\x00\\x00\\x00\\x00\\x00\\x00\\x00\\x00\\x00\\x00\\x00\\x00\\x00\\x00\\x00\\x00\\x00\\x00\\x00\\x00\\x00FSL5.0\\x00\\x00\\x00\\x00\\x00\\x00\\x00\\x00\\x00\\x00\\x00\\x00\\x00\\x00\\x00\\x00\\x00\\x00\\x00\\x00\\x00\\x00\\x00\\x00\\x00\\x00\\x00\\x00\\x00\\x00\\x00\\x00\\x00\\x00\\x00\\x00\\x00\\x00\\x00\\x00\\x00\\x00\\x00\\x00\\x00\\x00\\x00\\x00\\x00\\x00\\x00\\x00\\x00\\x00\\x00\\x00\\x00\\x00\\x00\\x00\\x00\\x00\\x00\\x00\\x00\\x00\\x00\\x00\\x00\\x00\\x00\\x00\\x00\\x00\\x00\\x00\\x00\\x00\\x00\\x00\\x00\\x00\\x00\\x00\\x00\\x00\\x00\\x00\\x00\\x00\\x00\\x00\\x00\\x00\\x00\\x00\\x00\\x00\\x01\\x00\\x01\\x00}\\x96\\xf0\\xbd:w\\x05<X+\\xb8<c\\xd3\\x01\\xc3_.\\xee\\xc2\\xf3j\\x0f\\xc3\\x0f\\xb5\\x7f?\\xe8\\xecw\\xbd\\xc5\\x812<c\\xd3\\x01\\xc3\\xbe\\x00/=\\xad\\xaa\\xa1?T:o>_.\\xee\\xc2\\xbd\\xc0\\xaf\\xbcu\\t\\x9b\\xbey\\xe6x?\\xf3j\\x0f\\xc3\\x00\\x00\\x00\\x00\\x00\\x00\\x00\\x00\\x00\\x00\\x00\\x00\\x00\\x00\\x00\\x00n+1\\x00\\x00\\x00\\x00\\x00'\n"
     ]
    }
   ],
   "source": [
    "print(contents[:352])"
   ]
  },
  {
   "cell_type": "markdown",
   "metadata": {},
   "source": [
    "Which software wrote this image?\n",
    "\n",
    "Here is the format of the NIfTI1 header :\n",
    "<http://nifti.nimh.nih.gov/nifti-1/documentation/nifti1fields>\n",
    "\n",
    "We are now going to try and work out the `datatype` of this image.  This is\n",
    "stored in the `datatype` field of the header. Careful - there is also a\n",
    "`data_type` field (with an underscore), which we will ignore.\n",
    "\n",
    "Looking at the web page above, how many bytes is the `datatype` value\n",
    "stored in?\n",
    "\n",
    "How would you get the bytes in `contents` that contain the `datatype`\n",
    "value?  We need slicing again, and the information from `Byte offset` column\n",
    "in the NIfTI1 header page above:"
   ]
  },
  {
   "cell_type": "code",
   "execution_count": 10,
   "metadata": {},
   "outputs": [
    {
     "name": "stdout",
     "output_type": "stream",
     "text": [
      "b'\\x10\\x00'\n"
     ]
    }
   ],
   "source": [
    "data_type_chars = contents[70:72]\n",
    "print(data_type_chars)"
   ]
  },
  {
   "cell_type": "markdown",
   "metadata": {},
   "source": [
    "The `datatype` value is stored in binary form (rather than text form).  The\n",
    "value for `datatype` is stored in the header in the same format that the\n",
    "computer stores the number in memory. We want to convert this binary format to\n",
    "a number that Python understands. To do that, we use the [struct module]\n",
    "(https://docs.python.org/3/library/struct.html)"
   ]
  },
  {
   "cell_type": "code",
   "execution_count": 11,
   "metadata": {},
   "outputs": [],
   "source": [
    "import struct"
   ]
  },
  {
   "cell_type": "markdown",
   "metadata": {},
   "source": [
    "We are going to use the `struct.unpack` function. Open a new cell below this\n",
    "one with `b` and type `struct.unpack?` followed by Shift-Return to see the\n",
    "help for this function.\n",
    "\n",
    "Now we have read the help, we know we need two things. The first is a\n",
    "string that give the code for the binary format of the data. This is the\n",
    "\"format string\". The second is the string containing the bytes of the\n",
    "data.\n",
    "\n",
    "We first need to specify the format of the character data. Have a look at the\n",
    "[help on format\n",
    "strings](https://docs.python.org/2/library/struct.html#format-characters) in\n",
    "the Python documentation and the NIfTI web page above.\n",
    "\n",
    "Here is the format specifier for our value:"
   ]
  },
  {
   "cell_type": "code",
   "execution_count": 12,
   "metadata": {},
   "outputs": [],
   "source": [
    "fmt_specifier = 'h'  # Why? (check the web pages above)"
   ]
  },
  {
   "cell_type": "markdown",
   "metadata": {},
   "source": [
    "Now we read the datatype value into a number that Python understands:"
   ]
  },
  {
   "cell_type": "code",
   "execution_count": 13,
   "metadata": {},
   "outputs": [
    {
     "name": "stdout",
     "output_type": "stream",
     "text": [
      "(16,)\n"
     ]
    }
   ],
   "source": [
    "datatype = struct.unpack(fmt_specifier, data_type_chars)\n",
    "print(datatype)"
   ]
  },
  {
   "cell_type": "markdown",
   "metadata": {},
   "source": [
    "This is a numerical *code* for a data type. To see what type this is, see:\n",
    "<http://nifti.nimh.nih.gov/nifti-1/documentation/nifti1fields/nifti1fields\\_pages/datatype.html>\n",
    "\n",
    "We could continue reading the NIfTI header in the same way, but luckily\n",
    "someone has done that work for us. Enter the `nibabel` package:"
   ]
  },
  {
   "cell_type": "code",
   "execution_count": 14,
   "metadata": {},
   "outputs": [],
   "source": [
    "import nibabel"
   ]
  },
  {
   "cell_type": "markdown",
   "metadata": {},
   "source": [
    "For now, we will use this package without worrying much about how it works.\n",
    "Have a look to see what `nibabel` can do by opening up a new cell with `b` and\n",
    "typing `nibabel?` and `nibabel.` followed by Tab.\n",
    "\n",
    "As with most Python packages, you can check what version of nibabel you have\n",
    "by printing the `__version__` variable of the package:"
   ]
  },
  {
   "cell_type": "code",
   "execution_count": 15,
   "metadata": {},
   "outputs": [
    {
     "name": "stdout",
     "output_type": "stream",
     "text": [
      "2.4.0dev\n"
     ]
    }
   ],
   "source": [
    "print(nibabel.__version__)"
   ]
  },
  {
   "cell_type": "markdown",
   "metadata": {},
   "source": [
    "If you have a nibabel version below 2.0.0, please let your instructor know so\n",
    "they can fix that.\n",
    "\n",
    "You can load an image into memory like this:"
   ]
  },
  {
   "cell_type": "code",
   "execution_count": 16,
   "metadata": {},
   "outputs": [],
   "source": [
    "img = nibabel.load('ds114_sub009_highres.nii')"
   ]
  },
  {
   "cell_type": "markdown",
   "metadata": {},
   "source": [
    "Let's have a look at the header:"
   ]
  },
  {
   "cell_type": "code",
   "execution_count": 17,
   "metadata": {},
   "outputs": [
    {
     "name": "stdout",
     "output_type": "stream",
     "text": [
      "<class 'nibabel.nifti1.Nifti1Header'> object, endian='<'\n",
      "sizeof_hdr      : 348\n",
      "data_type       : b''\n",
      "db_name         : b''\n",
      "extents         : 0\n",
      "session_error   : 0\n",
      "regular         : b'r'\n",
      "dim_info        : 0\n",
      "dim             : [  3 256 156 256   1   1   1   1]\n",
      "intent_p1       : 0.0\n",
      "intent_p2       : 0.0\n",
      "intent_p3       : 0.0\n",
      "intent_code     : none\n",
      "datatype        : float32\n",
      "bitpix          : 32\n",
      "slice_start     : 0\n",
      "pixdim          : [ 1.          1.          1.30022228  1.          0.00972     0.          0.\n",
      "  0.        ]\n",
      "vox_offset      : 0.0\n",
      "scl_slope       : nan\n",
      "scl_inter       : nan\n",
      "slice_end       : 0\n",
      "slice_code      : unknown\n",
      "xyzt_units      : 10\n",
      "cal_max         : 0.0\n",
      "cal_min         : 0.0\n",
      "slice_duration  : 0.0\n",
      "toffset         : 0.0\n",
      "glmax           : 0\n",
      "glmin           : 0\n",
      "descrip         : b'FSL5.0'\n",
      "aux_file        : b''\n",
      "qform_code      : scanner\n",
      "sform_code      : scanner\n",
      "quatern_b       : -0.11747453361749649\n",
      "quatern_c       : 0.008146101608872414\n",
      "quatern_d       : 0.022481605410575867\n",
      "qoffset_x       : -129.8257293701172\n",
      "qoffset_y       : -119.09056854248047\n",
      "qoffset_z       : -143.4177703857422\n",
      "srow_x          : [  9.98856485e-01  -6.05286658e-02   1.08951973e-02  -1.29825729e+02]\n",
      "srow_y          : [  4.27253172e-02   1.26302111e+00   2.33620942e-01  -1.19090569e+02]\n",
      "srow_z          : [ -2.14542095e-02  -3.02806526e-01   9.72266734e-01  -1.43417770e+02]\n",
      "intent_name     : b''\n",
      "magic           : b'n+1'\n"
     ]
    }
   ],
   "source": [
    "print(img.header)  # doctest: +SKIP"
   ]
  },
  {
   "cell_type": "markdown",
   "metadata": {},
   "source": [
    "As you can see, nibabel has worked out the datatype for us."
   ]
  }
 ],
 "metadata": {
  "jupytext": {
   "main_language": "python",
   "text_representation": {
    "extension": ".Rmd",
    "format_name": "rmarkdown"
   }
  },
  "language_info": {
   "codemirror_mode": {
    "name": "ipython",
    "version": 3
   },
   "file_extension": ".py",
   "mimetype": "text/x-python",
   "name": "python",
   "nbconvert_exporter": "python",
   "pygments_lexer": "ipython3",
   "version": "3.6.5"
  }
 },
 "nbformat": 4,
 "nbformat_minor": 2
}
