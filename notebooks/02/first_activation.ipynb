{
 "cells": [
  {
   "cell_type": "markdown",
   "metadata": {},
   "source": [
    "# First go at brain activation\n",
    "\n",
    "For this notebook you will need:\n",
    "\n",
    "* [ds114 FMRI image]({{ site.url }}{{ site.baseurl }}/data/ds114_sub009_t2r1.nii).\n",
    "* [ds114 stimulus file]({{ site.url }}{{ site.baseurl }}/data/ds114_sub009_t2r1_cond.txt)."
   ]
  },
  {
   "cell_type": "code",
   "execution_count": 1,
   "metadata": {},
   "outputs": [],
   "source": [
    "# Our usual set-up\n",
    "import numpy as np\n",
    "import matplotlib.pyplot as plt\n",
    "%matplotlib inline\n",
    "# Set 'gray' as the default colormap\n",
    "plt.rcParams['image.cmap'] = 'gray'\n",
    "# Display array values to 4 digits of precision\n",
    "np.set_printoptions(precision=4, suppress=True)"
   ]
  },
  {
   "cell_type": "markdown",
   "metadata": {},
   "source": [
    "## The task time-course\n",
    "\n",
    "We have previously had a look at the file `ds114_sub009_t2r1.nii`.  This is a\n",
    "4D FMRI image.\n",
    "\n",
    "Now we want to see whether we can detect any signal in that image relating to\n",
    "the task.\n",
    "\n",
    "The task was a block design with 10 seconds rest followed by 7 repeats of (30\n",
    "seconds when the subject thought of verbs followed by 30 seconds rest). This\n",
    "is called a “covert” task, because the subjects were thinking of verbs instead\n",
    "of saying them.\n",
    "\n",
    "We will use the [OpenFMRI](https://openfmri.org) task definition file\n",
    "`ds114_sub009_t2r1_cond.txt`. It comes from subject 9 task 2 and run 1 of the\n",
    "[ds114 dataset](https://openfmri.org/dataset/ds000114).\n",
    "\n",
    "The file has one line of text per “on” block, giving the onset time of the\n",
    "block (in seconds), the duration of the block (in seconds) and the amplitude\n",
    "(expected amount of activation for this block - not used in this case).\n",
    "\n",
    "Here are the first four lines:\n",
    "\n",
    "```\n",
    "10  30.000000   1\n",
    "70  30.000000   1\n",
    "130 30.000000   1\n",
    "190 30.000000   1\n",
    "```\n",
    "\n",
    "We read the file into a (number of blocks by 3) array called `task`."
   ]
  },
  {
   "cell_type": "code",
   "execution_count": 2,
   "metadata": {},
   "outputs": [
    {
     "data": {
      "text/plain": [
       "(7, 3)"
      ]
     },
     "execution_count": 2,
     "metadata": {},
     "output_type": "execute_result"
    }
   ],
   "source": [
    "#- Read the file into an array called \"task\".\n",
    "#- \"task\" should have 3 columns (onset, duration, amplitude)\n",
    "task = np.loadtxt('ds114_sub009_t2r1_cond.txt')\n",
    "task.shape"
   ]
  },
  {
   "cell_type": "markdown",
   "metadata": {},
   "source": [
    "The repetition time (time to repeat, TR) for this FMRI run was 2.5 seconds. We\n",
    "need to convert the onsets and durations to TRs - so for example the first\n",
    "onset was at 10 seconds, which was the start of TR 4 (10 / 2.5).\n",
    "\n",
    "Select out the first two columns of task, and divide by the TR to convert the\n",
    "onset and duration times to be in terms of TRs instead of seconds:"
   ]
  },
  {
   "cell_type": "code",
   "execution_count": 3,
   "metadata": {},
   "outputs": [
    {
     "data": {
      "text/plain": [
       "array([[   4.,   12.],\n",
       "       [  28.,   12.],\n",
       "       [  52.,   12.],\n",
       "       [  76.,   12.],\n",
       "       [ 100.,   12.],\n",
       "       [ 124.,   12.],\n",
       "       [ 148.,   12.]])"
      ]
     },
     "execution_count": 3,
     "metadata": {},
     "output_type": "execute_result"
    }
   ],
   "source": [
    "#- Select first two columns and divide by TR\n",
    "ons_durs = task[:, :2] / 2.5\n",
    "ons_durs"
   ]
  },
  {
   "cell_type": "markdown",
   "metadata": {},
   "source": [
    "Our next step is to make an on-off vector that is 0 when the subject is doing\n",
    "nothing and 1 when the subject is doing the covert verb task.\n",
    "\n",
    "The vector will have one value (either 0 or 1) for each TR.\n",
    "\n",
    "First use nibabel to load the image `ds114_sub009_t2r1.nii`. Check the image\n",
    "shape to find the number of TRs."
   ]
  },
  {
   "cell_type": "code",
   "execution_count": 4,
   "metadata": {},
   "outputs": [
    {
     "data": {
      "text/plain": [
       "(64, 64, 30, 173)"
      ]
     },
     "execution_count": 4,
     "metadata": {},
     "output_type": "execute_result"
    }
   ],
   "source": [
    "#- Load the image and check the image shape to get the number of TRs\n",
    "import nibabel as nib\n",
    "img = nib.load('ds114_sub009_t2r1.nii')\n",
    "img.shape"
   ]
  },
  {
   "cell_type": "markdown",
   "metadata": {},
   "source": [
    "Next make a new vector called `time_course` with one entry per TR, with all\n",
    "elements in the vector being zero:"
   ]
  },
  {
   "cell_type": "code",
   "execution_count": 5,
   "metadata": {},
   "outputs": [],
   "source": [
    "#- Make new zero vector\n",
    "time_course = np.zeros(img.shape[-1])"
   ]
  },
  {
   "cell_type": "markdown",
   "metadata": {},
   "source": [
    "Loop over the rows in the onsets / durations array to give you an onset /\n",
    "duration pair. For each of these pairs, set the matching positions in the\n",
    "`time_course` vector to 1. For example, the first pair will be `4, 12`.  That\n",
    "means the task started at the beginning of scan index 4, and lasted for 12\n",
    "scans. That means there should be 12 consecutive 1 values in `time_course`,\n",
    "starting at index 4. That means that index 4 + 12 = 16 should be zero again,\n",
    "because there are 12 values starting at (including 4) going up to (but *not*\n",
    "including) 16."
   ]
  },
  {
   "cell_type": "code",
   "execution_count": 6,
   "metadata": {},
   "outputs": [
    {
     "data": {
      "text/plain": [
       "12"
      ]
     },
     "execution_count": 6,
     "metadata": {},
     "output_type": "execute_result"
    }
   ],
   "source": [
    "#: try running this if you don't believe me\n",
    "len(range(4, 16))"
   ]
  },
  {
   "cell_type": "markdown",
   "metadata": {},
   "source": [
    "So, for the first row, you will want to set `time_course[4]` through\n",
    "`time_course[15]` equal to 1."
   ]
  },
  {
   "cell_type": "code",
   "execution_count": 7,
   "metadata": {},
   "outputs": [],
   "source": [
    "#- Fill in values of 1 for positions of on blocks in time course\n",
    "# Convert onsets, durations to integers first\n",
    "ons_durs = np.round(ons_durs).astype(int)\n",
    "for onset, duration in ons_durs:\n",
    "    time_course[onset:onset + duration] = 1"
   ]
  },
  {
   "cell_type": "markdown",
   "metadata": {},
   "source": [
    "Plot the time course:"
   ]
  },
  {
   "cell_type": "code",
   "execution_count": 8,
   "metadata": {},
   "outputs": [
    {
     "data": {
      "text/plain": [
       "[<matplotlib.lines.Line2D at 0x1067e54a8>]"
      ]
     },
     "execution_count": 8,
     "metadata": {},
     "output_type": "execute_result"
    },
    {
     "data": {
      "image/png": "[encoded data removed]",
      "text/plain": [
       "<Figure size 432x288 with 1 Axes>"
      ]
     },
     "metadata": {},
     "output_type": "display_data"
    }
   ],
   "source": [
    "#- Plot the time course\n",
    "plt.plot(time_course)"
   ]
  },
  {
   "cell_type": "markdown",
   "metadata": {},
   "source": [
    "# Comparing task to rest\n",
    "\n",
    "Make a boolean array `is_task_tr` which is True when `time_course` is 1\n",
    "and False otherwise.\n",
    "\n",
    "Make another array `is_rest_tr` that is the opposite - True when\n",
    "`time_course` is 0 and False otherwise."
   ]
  },
  {
   "cell_type": "code",
   "execution_count": 9,
   "metadata": {},
   "outputs": [],
   "source": [
    "#- Make two boolean arrays encoding task, rest\n",
    "is_task_tr = (time_course == 1)\n",
    "is_rest_tr = (time_course == 0)"
   ]
  },
  {
   "cell_type": "markdown",
   "metadata": {},
   "source": [
    "Read the image data into an array:"
   ]
  },
  {
   "cell_type": "code",
   "execution_count": 10,
   "metadata": {},
   "outputs": [],
   "source": [
    "# Read the image data into an array.\n",
    "data = img.get_data()"
   ]
  },
  {
   "cell_type": "markdown",
   "metadata": {},
   "source": [
    "Remember that the 4D array consists of one volume (3D array) per TR.\n",
    "\n",
    "We want to select the volumes where the time course is 1 (task volumes).  Do\n",
    "this by slicing, using the boolean array you just made."
   ]
  },
  {
   "cell_type": "code",
   "execution_count": 11,
   "metadata": {},
   "outputs": [],
   "source": [
    "#- Create a new 4D array only containing the task volumes\n",
    "on_volumes = data[..., is_task_tr]"
   ]
  },
  {
   "cell_type": "markdown",
   "metadata": {},
   "source": [
    "Select the volumes where the time course is 0 (rest volumes):"
   ]
  },
  {
   "cell_type": "code",
   "execution_count": 12,
   "metadata": {},
   "outputs": [],
   "source": [
    "#- Create a new 4D array only containing the rest volumes\n",
    "off_volumes = data[..., is_rest_tr]"
   ]
  },
  {
   "cell_type": "markdown",
   "metadata": {},
   "source": [
    "We want to know whether there is a difference in signal in the task volumes\n",
    "compared to the rest volumes. Take the mean over the task volumes and mean\n",
    "over the rest volumes. You should end up with two 3D volumes."
   ]
  },
  {
   "cell_type": "code",
   "execution_count": 13,
   "metadata": {},
   "outputs": [],
   "source": [
    "#- Create the mean volume across all the task volumes.\n",
    "#- Then create the mean volume across all the rest volumes\n",
    "on_mean = on_volumes.mean(axis=-1)\n",
    "off_mean = off_volumes.mean(axis=-1)"
   ]
  },
  {
   "cell_type": "markdown",
   "metadata": {},
   "source": [
    "Now subtract the rest mean from the task mean to get a difference volume."
   ]
  },
  {
   "cell_type": "code",
   "execution_count": 14,
   "metadata": {},
   "outputs": [],
   "source": [
    "#- Create a difference volume\n",
    "difference = on_mean - off_mean"
   ]
  },
  {
   "cell_type": "markdown",
   "metadata": {},
   "source": [
    "Show a slice over the third dimension of the difference volume, from somewhere\n",
    "around the center of the third axis:"
   ]
  },
  {
   "cell_type": "code",
   "execution_count": 15,
   "metadata": {},
   "outputs": [
    {
     "data": {
      "text/plain": [
       "<matplotlib.image.AxesImage at 0x10802b0f0>"
      ]
     },
     "execution_count": 15,
     "metadata": {},
     "output_type": "execute_result"
    },
    {
     "data": {
      "image/png": "[encoded data removed]",
      "text/plain": [
       "<Figure size 432x288 with 1 Axes>"
      ]
     },
     "metadata": {},
     "output_type": "display_data"
    }
   ],
   "source": [
    "#- Show a slice over the third dimension\n",
    "plt.imshow(difference[:, :, 14])"
   ]
  },
  {
   "cell_type": "markdown",
   "metadata": {},
   "source": [
    "This is the difference between activation and rest. It looks a little strange.\n",
    "\n",
    "This is the T1 artefact we saw in the previous notebook.  We should drop the first scan:"
   ]
  },
  {
   "cell_type": "code",
   "execution_count": 16,
   "metadata": {},
   "outputs": [],
   "source": [
    "#- Use slicing to remove outlier volume from rest volumes\n",
    "off_volumes_fixed = off_volumes[..., 1:]"
   ]
  },
  {
   "cell_type": "markdown",
   "metadata": {},
   "source": [
    "Make a new mean for the rest volumes, and subtract this mean from the mean for\n",
    "the task volumes to make a new difference image.\n",
    "\n",
    "Give the new difference image a new name, so we can compare to the old\n",
    "difference image later."
   ]
  },
  {
   "cell_type": "code",
   "execution_count": 17,
   "metadata": {},
   "outputs": [],
   "source": [
    "#- Make new mean for rest volumes, subtract from task mean\n",
    "off_mean_fixed = off_volumes_fixed.mean(axis=-1)\n",
    "difference_fixed = on_mean - off_mean_fixed"
   ]
  },
  {
   "cell_type": "markdown",
   "metadata": {},
   "source": [
    "Show an example slice from the new difference volume. Show the same slice from\n",
    "the old difference volume, using matplotlib."
   ]
  },
  {
   "cell_type": "code",
   "execution_count": 18,
   "metadata": {},
   "outputs": [
    {
     "data": {
      "text/plain": [
       "<matplotlib.image.AxesImage at 0x1086284a8>"
      ]
     },
     "execution_count": 18,
     "metadata": {},
     "output_type": "execute_result"
    },
    {
     "data": {
      "image/png": "[encoded data removed]",
      "text/plain": [
       "<Figure size 432x288 with 1 Axes>"
      ]
     },
     "metadata": {},
     "output_type": "display_data"
    }
   ],
   "source": [
    "#- show same slice from old and new difference volume\n",
    "plt.imshow(difference_fixed[:, :, 14], cmap='gray')"
   ]
  }
 ],
 "metadata": {
  "jupytext": {
   "text_representation": {
    "extension": ".Rmd",
    "format_name": "rmarkdown",
    "format_version": "1.0",
    "jupytext_version": "0.8.1"
   }
  },
  "kernelspec": {
   "display_name": "Python 3",
   "language": "python",
   "name": "python3"
  },
  "language_info": {
   "codemirror_mode": {
    "name": "ipython",
    "version": 3
   },
   "file_extension": ".py",
   "mimetype": "text/x-python",
   "name": "python",
   "nbconvert_exporter": "python",
   "pygments_lexer": "ipython3",
   "version": "3.6.5"
  }
 },
 "nbformat": 4,
 "nbformat_minor": 2
}
