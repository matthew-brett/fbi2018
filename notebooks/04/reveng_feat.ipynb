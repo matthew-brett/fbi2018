{
 "cells": [
  {
   "cell_type": "markdown",
   "metadata": {},
   "source": [
    "# Replicating an FSL analysis\n",
    "\n",
    "You may need:\n",
    "\n",
    "* [ds114 FMRI image]({{ site.url }}{{ site.baseurl }}/data/ds114_sub009_t2r1.nii).\n",
    "* [ds114 stimulus file]({{ site.url }}{{ site.baseurl }}/data/ds114_sub009_t2r1_cond.txt).\n",
    "* [ds114 design file]({{ site.url }}{{ site.baseurl }}/data/ds114_sub009_t2r1_design.fsf).\n",
    "\n",
    "If you don't have FSL on your computer, you will also need to download and\n",
    "unpack the [ds114 FEAT analysis directory archive]({{ site.url }}{{ site.baseurl\n",
    "}}/data/ds114_sub009_t2r1_feat.zip).\n",
    "\n",
    "I start by running an FSL analysis on the `ds114_sub009_t2r1.nii` image.\n",
    "\n",
    "I chose the following options for simplicity of the model:\n",
    "\n",
    "* stats only (not preprocessing);\n",
    "* turn off FILM prewhitening;\n",
    "* use the `ds114_sub009_t2r1_cond.txt` 3 column file to define my events;\n",
    "* use the double gamma HRF;\n",
    "* turn off \"Add temporal derivative\";\n",
    "* turn off \"Apply temporal filtering\".\n",
    "\n",
    "See the file `ds114_sub009_t2r1_simple.fsf` for the analysis definition."
   ]
  },
  {
   "cell_type": "code",
   "execution_count": 1,
   "metadata": {},
   "outputs": [],
   "source": [
    "# We will need these later\n",
    "from os import listdir  # To list the files in a directory\n",
    "from os.path import join as pjoin  # To build file paths"
   ]
  },
  {
   "cell_type": "code",
   "execution_count": 2,
   "metadata": {},
   "outputs": [],
   "source": [
    "# Our standard imports\n",
    "import numpy as np  # The array library\n",
    "import numpy.linalg as npl  # The linear algebra sub-package\n",
    "np.set_printoptions(precision=4, suppress=True)\n",
    "import matplotlib.pyplot as plt  # The plotting library\n",
    "%matplotlib inline"
   ]
  },
  {
   "cell_type": "code",
   "execution_count": 3,
   "metadata": {},
   "outputs": [],
   "source": [
    "# The library to load images\n",
    "# You might need to do \"pip install nibabel\" in the Terminal\n",
    "import nibabel as nib"
   ]
  },
  {
   "cell_type": "markdown",
   "metadata": {},
   "source": [
    "We investigate the FEAT output directory:"
   ]
  },
  {
   "cell_type": "code",
   "execution_count": 4,
   "metadata": {},
   "outputs": [
    {
     "data": {
      "text/plain": [
       "['design_cov.png',\n",
       " 'design.png',\n",
       " 'design.con',\n",
       " 'report_log.html',\n",
       " 'design.ppm',\n",
       " 'absbrainthresh.txt',\n",
       " 'design_cov.ppm',\n",
       " 'mask.nii.gz',\n",
       " 'design.trg',\n",
       " 'thresh_zstat1.nii.gz',\n",
       " 'rendered_thresh_zstat1.png',\n",
       " 'cluster_zstat1.html',\n",
       " 'tsplot',\n",
       " 'design.mat',\n",
       " 'design.frf',\n",
       " 'lmax_zstat1.txt',\n",
       " '.files',\n",
       " 'report_prestats.html',\n",
       " '.ramp.gif',\n",
       " 'mean_func.nii.gz',\n",
       " 'report_reg.html',\n",
       " 'report_poststats.html',\n",
       " 'logs',\n",
       " 'design.min',\n",
       " 'design.fsf',\n",
       " 'report_stats.html',\n",
       " 'cluster_zstat1.txt',\n",
       " 'rendered_thresh_zstat1.nii.gz',\n",
       " 'custom_timing_files',\n",
       " 'report.html',\n",
       " 'thresh_zstat1.vol',\n",
       " 'example_func.nii.gz',\n",
       " 'cluster_mask_zstat1.nii.gz',\n",
       " 'stats']"
      ]
     },
     "execution_count": 4,
     "metadata": {},
     "output_type": "execute_result"
    }
   ],
   "source": [
    "feat_dir = 'ds114_sub009_t2r1.feat'\n",
    "listdir(feat_dir)"
   ]
  },
  {
   "cell_type": "markdown",
   "metadata": {},
   "source": [
    "There is a `stats` subdirectory in the FEAT directory, with some interesting files:"
   ]
  },
  {
   "cell_type": "code",
   "execution_count": 5,
   "metadata": {},
   "outputs": [
    {
     "data": {
      "text/plain": [
       "['threshac1.nii.gz',\n",
       " 'tstat1.nii.gz',\n",
       " 'varcope1.nii.gz',\n",
       " 'dof',\n",
       " 'smoothness',\n",
       " 'pe1.nii.gz',\n",
       " 'cope1.nii.gz',\n",
       " 'sigmasquareds.nii.gz',\n",
       " 'logfile',\n",
       " 'zstat1.nii.gz']"
      ]
     },
     "execution_count": 5,
     "metadata": {},
     "output_type": "execute_result"
    }
   ],
   "source": [
    "stats_dir = pjoin(feat_dir, 'stats')\n",
    "listdir(stats_dir)"
   ]
  },
  {
   "cell_type": "markdown",
   "metadata": {},
   "source": [
    "The `pe1.nii.gz` contains the Parameter Estimate for the regressor:"
   ]
  },
  {
   "cell_type": "code",
   "execution_count": 6,
   "metadata": {},
   "outputs": [
    {
     "data": {
      "text/plain": [
       "'ds114_sub009_t2r1.feat/stats/pe1.nii.gz'"
      ]
     },
     "execution_count": 6,
     "metadata": {},
     "output_type": "execute_result"
    }
   ],
   "source": [
    "pe_fname = pjoin(stats_dir, 'pe1.nii.gz')\n",
    "pe_fname"
   ]
  },
  {
   "cell_type": "markdown",
   "metadata": {},
   "source": [
    "It's an image, with one parameter estimate per voxel:"
   ]
  },
  {
   "cell_type": "code",
   "execution_count": 7,
   "metadata": {},
   "outputs": [
    {
     "data": {
      "text/plain": [
       "(64, 64, 30)"
      ]
     },
     "execution_count": 7,
     "metadata": {},
     "output_type": "execute_result"
    }
   ],
   "source": [
    "pe_img = nib.load(pe_fname)\n",
    "pe_data = pe_img.get_fdata()\n",
    "pe_data.shape"
   ]
  },
  {
   "cell_type": "markdown",
   "metadata": {},
   "source": [
    "Here's the 15th slab in the Parameter Estimate volume:"
   ]
  },
  {
   "cell_type": "code",
   "execution_count": 8,
   "metadata": {},
   "outputs": [
    {
     "data": {
      "text/plain": [
       "<matplotlib.image.AxesImage at 0x117094208>"
      ]
     },
     "execution_count": 8,
     "metadata": {},
     "output_type": "execute_result"
    },
    {
     "data": {
      "image/png": "[encoded data removed]",
      "text/plain": [
       "<Figure size 432x288 with 1 Axes>"
      ]
     },
     "metadata": {
      "needs_background": "light"
     },
     "output_type": "display_data"
    }
   ],
   "source": [
    "plt.imshow(pe_data[:, :, 14], cmap='gray')"
   ]
  },
  {
   "cell_type": "markdown",
   "metadata": {},
   "source": [
    "Compare this image to the [first_activation notebook](https://github.com/matthew-brett/msc_imaging/blob/master/first_activation.ipynb) estimate we found."
   ]
  },
  {
   "cell_type": "markdown",
   "metadata": {},
   "source": [
    "The design matrix:"
   ]
  },
  {
   "cell_type": "code",
   "execution_count": 9,
   "metadata": {},
   "outputs": [
    {
     "data": {
      "text/plain": [
       "'ds114_sub009_t2r1.feat/design.mat'"
      ]
     },
     "execution_count": 9,
     "metadata": {},
     "output_type": "execute_result"
    }
   ],
   "source": [
    "design_fname = pjoin(feat_dir, 'design.mat')\n",
    "design_fname"
   ]
  },
  {
   "cell_type": "code",
   "execution_count": 10,
   "metadata": {},
   "outputs": [
    {
     "name": "stdout",
     "output_type": "stream",
     "text": [
      "/NumWaves\t1\n",
      "/NumPoints\t173\n",
      "/PPheights\t\t1.280507e+00\n",
      "\n",
      "/Matrix\n",
      "-4.855490e-01\t\n",
      "-4.855491e-01\t\n",
      "-4.855491e-01\t\n",
      "-4.855491e-01\t\n",
      "-4.831242e-01\t\n",
      "-2.687152e-01\t\n",
      "2.311866e-01\t\n",
      "5.548245e-01\t\n",
      "6.547042e-01\t\n",
      "6.450099e-01\t\n",
      "6.010161e-01\t\n",
      "5.601737e-01\t\n",
      "5.345309e-01\t\n",
      "5.219966e-01\t\n",
      "5.169302e-01\t\n",
      "5.151719e-01\t\n",
      "5.122089e-01\t\n",
      "2.976517e-01\t\n",
      "-2.022853e-01\t\n",
      "-5.259232e-01\t\n",
      "-6.258029e-01\t\n",
      "-6.161086e-01\t\n",
      "-5.721148e-01\t\n",
      "-5.312724e-01\t\n",
      "-5.056295e-01\t\n",
      "-4.930953e-01\t\n",
      "-4.880289e-01\t\n",
      "-4.862706e-01\t\n",
      "-4.833076e-01\t\n",
      "-2.687504e-01\t\n",
      "2.311866e-01\t\n",
      "5.548245e-01\t\n",
      "6.547042e-01\t\n",
      "6.450099e-01\t\n",
      "6.010161e-01\t\n",
      "5.601737e-01\t\n",
      "5.345309e-01\t\n",
      "5.219966e-01\t\n",
      "5.169302e-01\t\n",
      "5.151719e-01\t\n",
      "5.122089e-01\t\n",
      "2.976517e-01\t\n",
      "-2.022853e-01\t\n",
      "-5.259232e-01\t\n",
      "-6.258029e-01\t\n",
      "-6.161086e-01\t\n",
      "-5.721148e-01\t\n",
      "-5.312724e-01\t\n",
      "-5.056295e-01\t\n",
      "-4.930953e-01\t\n",
      "-4.880289e-01\t\n",
      "-4.862706e-01\t\n",
      "-4.833076e-01\t\n",
      "-2.687504e-01\t\n",
      "2.311866e-01\t\n",
      "5.548245e-01\t\n",
      "6.547042e-01\t\n",
      "6.450099e-01\t\n",
      "6.010161e-01\t\n",
      "5.601737e-01\t\n",
      "5.345309e-01\t\n",
      "5.219966e-01\t\n",
      "5.169302e-01\t\n",
      "5.151719e-01\t\n",
      "5.122089e-01\t\n",
      "2.976517e-01\t\n",
      "-2.022853e-01\t\n",
      "-5.259232e-01\t\n",
      "-6.258029e-01\t\n",
      "-6.161086e-01\t\n",
      "-5.721148e-01\t\n",
      "-5.312724e-01\t\n",
      "-5.056295e-01\t\n",
      "-4.930953e-01\t\n",
      "-4.880289e-01\t\n",
      "-4.862706e-01\t\n",
      "-4.833076e-01\t\n",
      "-2.687504e-01\t\n",
      "2.311866e-01\t\n",
      "5.548245e-01\t\n",
      "6.547042e-01\t\n",
      "6.450099e-01\t\n",
      "6.010161e-01\t\n",
      "5.601737e-01\t\n",
      "5.345309e-01\t\n",
      "5.219966e-01\t\n",
      "5.169302e-01\t\n",
      "5.151719e-01\t\n",
      "5.122089e-01\t\n",
      "2.976517e-01\t\n",
      "-2.022853e-01\t\n",
      "-5.259232e-01\t\n",
      "-6.258029e-01\t\n",
      "-6.161086e-01\t\n",
      "-5.721148e-01\t\n",
      "-5.312724e-01\t\n",
      "-5.056295e-01\t\n",
      "-4.930953e-01\t\n",
      "-4.880289e-01\t\n",
      "-4.862706e-01\t\n",
      "-4.833076e-01\t\n",
      "-2.687504e-01\t\n",
      "2.311866e-01\t\n",
      "5.548245e-01\t\n",
      "6.547042e-01\t\n",
      "6.450099e-01\t\n",
      "6.010161e-01\t\n",
      "5.601737e-01\t\n",
      "5.345309e-01\t\n",
      "5.219966e-01\t\n",
      "5.169302e-01\t\n",
      "5.151719e-01\t\n",
      "5.122089e-01\t\n",
      "2.976517e-01\t\n",
      "-2.022853e-01\t\n",
      "-5.259232e-01\t\n",
      "-6.258029e-01\t\n",
      "-6.161086e-01\t\n",
      "-5.721148e-01\t\n",
      "-5.312724e-01\t\n",
      "-5.056295e-01\t\n",
      "-4.930953e-01\t\n",
      "-4.880289e-01\t\n",
      "-4.862706e-01\t\n",
      "-4.833076e-01\t\n",
      "-2.687504e-01\t\n",
      "2.311866e-01\t\n",
      "5.548245e-01\t\n",
      "6.547042e-01\t\n",
      "6.450099e-01\t\n",
      "6.010161e-01\t\n",
      "5.601737e-01\t\n",
      "5.345309e-01\t\n",
      "5.219966e-01\t\n",
      "5.169302e-01\t\n",
      "5.151719e-01\t\n",
      "5.122089e-01\t\n",
      "2.976517e-01\t\n",
      "-2.022853e-01\t\n",
      "-5.259232e-01\t\n",
      "-6.258029e-01\t\n",
      "-6.161086e-01\t\n",
      "-5.721148e-01\t\n",
      "-5.312724e-01\t\n",
      "-5.056295e-01\t\n",
      "-4.930953e-01\t\n",
      "-4.880289e-01\t\n",
      "-4.862706e-01\t\n",
      "-4.833076e-01\t\n",
      "-2.687504e-01\t\n",
      "2.311866e-01\t\n",
      "5.548245e-01\t\n",
      "6.547042e-01\t\n",
      "6.450099e-01\t\n",
      "6.010161e-01\t\n",
      "5.601737e-01\t\n",
      "5.345309e-01\t\n",
      "5.219966e-01\t\n",
      "5.169302e-01\t\n",
      "5.151719e-01\t\n",
      "5.122089e-01\t\n",
      "2.976517e-01\t\n",
      "-2.022853e-01\t\n",
      "-5.259232e-01\t\n",
      "-6.258029e-01\t\n",
      "-6.161086e-01\t\n",
      "-5.721148e-01\t\n",
      "-5.312724e-01\t\n",
      "-5.056295e-01\t\n",
      "-4.930953e-01\t\n",
      "-4.880289e-01\t\n",
      "-4.862706e-01\t\n",
      "-4.857324e-01\t\n",
      "\n"
     ]
    }
   ],
   "source": [
    "# Read contents of the design file\n",
    "with open(design_fname, 'rt') as fobj:\n",
    "    design = fobj.read()\n",
    "print(design)"
   ]
  },
  {
   "cell_type": "code",
   "execution_count": 11,
   "metadata": {},
   "outputs": [
    {
     "data": {
      "text/plain": [
       "array([-0.4855, -0.4855, -0.4855, -0.4855, -0.4831, -0.2687,  0.2312,\n",
       "        0.5548,  0.6547,  0.645 ,  0.601 ,  0.5602,  0.5345,  0.522 ,\n",
       "        0.5169,  0.5152,  0.5122,  0.2977, -0.2023, -0.5259, -0.6258,\n",
       "       -0.6161, -0.5721, -0.5313, -0.5056, -0.4931, -0.488 , -0.4863,\n",
       "       -0.4833, -0.2688,  0.2312,  0.5548,  0.6547,  0.645 ,  0.601 ,\n",
       "        0.5602,  0.5345,  0.522 ,  0.5169,  0.5152,  0.5122,  0.2977,\n",
       "       -0.2023, -0.5259, -0.6258, -0.6161, -0.5721, -0.5313, -0.5056,\n",
       "       -0.4931, -0.488 , -0.4863, -0.4833, -0.2688,  0.2312,  0.5548,\n",
       "        0.6547,  0.645 ,  0.601 ,  0.5602,  0.5345,  0.522 ,  0.5169,\n",
       "        0.5152,  0.5122,  0.2977, -0.2023, -0.5259, -0.6258, -0.6161,\n",
       "       -0.5721, -0.5313, -0.5056, -0.4931, -0.488 , -0.4863, -0.4833,\n",
       "       -0.2688,  0.2312,  0.5548,  0.6547,  0.645 ,  0.601 ,  0.5602,\n",
       "        0.5345,  0.522 ,  0.5169,  0.5152,  0.5122,  0.2977, -0.2023,\n",
       "       -0.5259, -0.6258, -0.6161, -0.5721, -0.5313, -0.5056, -0.4931,\n",
       "       -0.488 , -0.4863, -0.4833, -0.2688,  0.2312,  0.5548,  0.6547,\n",
       "        0.645 ,  0.601 ,  0.5602,  0.5345,  0.522 ,  0.5169,  0.5152,\n",
       "        0.5122,  0.2977, -0.2023, -0.5259, -0.6258, -0.6161, -0.5721,\n",
       "       -0.5313, -0.5056, -0.4931, -0.488 , -0.4863, -0.4833, -0.2688,\n",
       "        0.2312,  0.5548,  0.6547,  0.645 ,  0.601 ,  0.5602,  0.5345,\n",
       "        0.522 ,  0.5169,  0.5152,  0.5122,  0.2977, -0.2023, -0.5259,\n",
       "       -0.6258, -0.6161, -0.5721, -0.5313, -0.5056, -0.4931, -0.488 ,\n",
       "       -0.4863, -0.4833, -0.2688,  0.2312,  0.5548,  0.6547,  0.645 ,\n",
       "        0.601 ,  0.5602,  0.5345,  0.522 ,  0.5169,  0.5152,  0.5122,\n",
       "        0.2977, -0.2023, -0.5259, -0.6258, -0.6161, -0.5721, -0.5313,\n",
       "       -0.5056, -0.4931, -0.488 , -0.4863, -0.4857])"
      ]
     },
     "execution_count": 11,
     "metadata": {},
     "output_type": "execute_result"
    }
   ],
   "source": [
    "regressor = np.loadtxt(design_fname, comments='/')\n",
    "regressor"
   ]
  },
  {
   "cell_type": "code",
   "execution_count": 12,
   "metadata": {},
   "outputs": [
    {
     "data": {
      "text/plain": [
       "[<matplotlib.lines.Line2D at 0x1192d4f60>]"
      ]
     },
     "execution_count": 12,
     "metadata": {},
     "output_type": "execute_result"
    },
    {
     "data": {
      "image/png": "[encoded data removed]",
      "text/plain": [
       "<Figure size 432x288 with 1 Axes>"
      ]
     },
     "metadata": {
      "needs_background": "light"
     },
     "output_type": "display_data"
    }
   ],
   "source": [
    "plt.plot(regressor)"
   ]
  },
  {
   "cell_type": "code",
   "execution_count": 13,
   "metadata": {},
   "outputs": [
    {
     "data": {
      "text/plain": [
       "-1.1560693609863562e-09"
      ]
     },
     "execution_count": 13,
     "metadata": {},
     "output_type": "execute_result"
    }
   ],
   "source": [
    "np.mean(regressor)"
   ]
  },
  {
   "cell_type": "markdown",
   "metadata": {},
   "source": [
    "Remember the [all_one_voxel notebook](https://nbviewer.jupyter.org/github/matthew-brett/msc_imaging/blob/master/all_one_voxel.ipynb)?"
   ]
  },
  {
   "cell_type": "code",
   "execution_count": 14,
   "metadata": {},
   "outputs": [
    {
     "data": {
      "text/plain": [
       "[<matplotlib.lines.Line2D at 0x1193df588>]"
      ]
     },
     "execution_count": 14,
     "metadata": {},
     "output_type": "execute_result"
    },
    {
     "data": {
      "image/png": "[encoded data removed]",
      "text/plain": [
       "<Figure size 432x288 with 1 Axes>"
      ]
     },
     "metadata": {
      "needs_background": "light"
     },
     "output_type": "display_data"
    }
   ],
   "source": [
    "img = nib.load('ds114_sub009_t2r1.nii')\n",
    "data = img.get_fdata()\n",
    "voxel_time_course = data[42, 32, 19]\n",
    "plt.plot(voxel_time_course)"
   ]
  },
  {
   "cell_type": "markdown",
   "metadata": {},
   "source": [
    "Let's do our own regression:"
   ]
  },
  {
   "cell_type": "code",
   "execution_count": 15,
   "metadata": {},
   "outputs": [
    {
     "data": {
      "text/plain": [
       "173"
      ]
     },
     "execution_count": 15,
     "metadata": {},
     "output_type": "execute_result"
    }
   ],
   "source": [
    "# The number of elements in the data (scans)\n",
    "N = data.shape[-1]\n",
    "N"
   ]
  },
  {
   "cell_type": "code",
   "execution_count": 16,
   "metadata": {},
   "outputs": [
    {
     "data": {
      "text/plain": [
       "<matplotlib.image.AxesImage at 0x119174e10>"
      ]
     },
     "execution_count": 16,
     "metadata": {},
     "output_type": "execute_result"
    },
    {
     "data": {
      "image/png": "[encoded data removed]",
      "text/plain": [
       "<Figure size 432x288 with 1 Axes>"
      ]
     },
     "metadata": {
      "needs_background": "light"
     },
     "output_type": "display_data"
    }
   ],
   "source": [
    "# The design matrix for a simple regression\n",
    "X = np.ones((N, 2))\n",
    "X[:, 0] = regressor\n",
    "plt.imshow(X, cmap='gray', aspect=0.1)"
   ]
  },
  {
   "cell_type": "code",
   "execution_count": 17,
   "metadata": {},
   "outputs": [
    {
     "data": {
      "text/plain": [
       "array([  27.6368, 2044.7919])"
      ]
     },
     "execution_count": 17,
     "metadata": {},
     "output_type": "execute_result"
    }
   ],
   "source": [
    "# Estimate the slope and intercept for this regression\n",
    "y = voxel_time_course\n",
    "B = npl.pinv(X).dot(y)\n",
    "B"
   ]
  },
  {
   "cell_type": "markdown",
   "metadata": {},
   "source": [
    "What does FSL get for slope estimate at this voxel?"
   ]
  },
  {
   "cell_type": "code",
   "execution_count": 18,
   "metadata": {},
   "outputs": [
    {
     "data": {
      "text/plain": [
       "27.6368465423584"
      ]
     },
     "execution_count": 18,
     "metadata": {},
     "output_type": "execute_result"
    }
   ],
   "source": [
    "pe_data[42, 32, 19]"
   ]
  },
  {
   "cell_type": "markdown",
   "metadata": {},
   "source": [
    "Remember our contrast, to select the slope of the regressor?"
   ]
  },
  {
   "cell_type": "code",
   "execution_count": 19,
   "metadata": {},
   "outputs": [
    {
     "data": {
      "text/plain": [
       "27.63684567343443"
      ]
     },
     "execution_count": 19,
     "metadata": {},
     "output_type": "execute_result"
    }
   ],
   "source": [
    "c = np.array([1, 0])\n",
    "c.dot(B)"
   ]
  },
  {
   "cell_type": "markdown",
   "metadata": {},
   "source": [
    "FSL has Contrast Of Parameter Estimate (COPE) files:"
   ]
  },
  {
   "cell_type": "code",
   "execution_count": 20,
   "metadata": {},
   "outputs": [
    {
     "data": {
      "text/plain": [
       "27.6368465423584"
      ]
     },
     "execution_count": 20,
     "metadata": {},
     "output_type": "execute_result"
    }
   ],
   "source": [
    "cope_fname = pjoin(stats_dir, 'cope1.nii.gz')\n",
    "cope_img = nib.load(cope_fname)\n",
    "cope_data = cope_img.get_fdata()\n",
    "cope_data[42, 32, 19]"
   ]
  },
  {
   "cell_type": "markdown",
   "metadata": {},
   "source": [
    "FSL also has a `sigmasquareds.nii.gz` file, that contains the variance estimate at each voxel:"
   ]
  },
  {
   "cell_type": "code",
   "execution_count": 21,
   "metadata": {},
   "outputs": [
    {
     "data": {
      "text/plain": [
       "600.3792724609375"
      ]
     },
     "execution_count": 21,
     "metadata": {},
     "output_type": "execute_result"
    }
   ],
   "source": [
    "ss_fname = pjoin(stats_dir, 'sigmasquareds.nii.gz')\n",
    "ss_img = nib.load(ss_fname)\n",
    "ss_data = ss_img.get_fdata()\n",
    "ss_data[42, 32, 19]"
   ]
  },
  {
   "cell_type": "markdown",
   "metadata": {},
   "source": [
    "Remember the fitted data, and the residuals?"
   ]
  },
  {
   "cell_type": "code",
   "execution_count": 22,
   "metadata": {},
   "outputs": [],
   "source": [
    "fitted = X.dot(B)\n",
    "residuals = y - fitted"
   ]
  },
  {
   "cell_type": "markdown",
   "metadata": {},
   "source": [
    "We can calculate the variance with the degrees of freedom and the residuals:"
   ]
  },
  {
   "cell_type": "code",
   "execution_count": 23,
   "metadata": {},
   "outputs": [
    {
     "data": {
      "text/plain": [
       "2"
      ]
     },
     "execution_count": 23,
     "metadata": {},
     "output_type": "execute_result"
    }
   ],
   "source": [
    "# Degrees of freedom in the design.\n",
    "# This is the number of independent columns in the design\n",
    "df_design = npl.matrix_rank(X)\n",
    "df_design"
   ]
  },
  {
   "cell_type": "code",
   "execution_count": 24,
   "metadata": {},
   "outputs": [
    {
     "data": {
      "text/plain": [
       "171"
      ]
     },
     "execution_count": 24,
     "metadata": {},
     "output_type": "execute_result"
    }
   ],
   "source": [
    "# Degrees of freedom remaining in the data\n",
    "df_data = N - df_design\n",
    "df_data"
   ]
  },
  {
   "cell_type": "code",
   "execution_count": 25,
   "metadata": {},
   "outputs": [
    {
     "data": {
      "text/plain": [
       "603.8902548558667"
      ]
     },
     "execution_count": 25,
     "metadata": {},
     "output_type": "execute_result"
    }
   ],
   "source": [
    "variance = np.sum(residuals ** 2) / df_data\n",
    "variance"
   ]
  },
  {
   "cell_type": "markdown",
   "metadata": {},
   "source": [
    "Oops - that is not the same as FSL.  It turns out FSL thinks the data has an extra degree of freedom, in its calculation of variance:"
   ]
  },
  {
   "cell_type": "code",
   "execution_count": 26,
   "metadata": {},
   "outputs": [
    {
     "data": {
      "text/plain": [
       "600.3792650020536"
      ]
     },
     "execution_count": 26,
     "metadata": {},
     "output_type": "execute_result"
    }
   ],
   "source": [
    "fsl_df = df_data + 1\n",
    "fsl_variance = np.sum(residuals ** 2) / fsl_df\n",
    "fsl_variance"
   ]
  },
  {
   "cell_type": "markdown",
   "metadata": {},
   "source": [
    "As you will see, it has (as of FSL 6.0) corrected for this - er - version of variance, in the output of the t-test."
   ]
  },
  {
   "cell_type": "markdown",
   "metadata": {},
   "source": [
    "Now let's do a t-test by hand."
   ]
  },
  {
   "cell_type": "code",
   "execution_count": 27,
   "metadata": {},
   "outputs": [
    {
     "data": {
      "text/plain": [
       "27.63684567343443"
      ]
     },
     "execution_count": 27,
     "metadata": {},
     "output_type": "execute_result"
    }
   ],
   "source": [
    "# Top of t - same as COPE\n",
    "c = np.array([1, 0])\n",
    "top_of_t = c.dot(B)\n",
    "top_of_t"
   ]
  },
  {
   "cell_type": "code",
   "execution_count": 28,
   "metadata": {},
   "outputs": [
    {
     "data": {
      "text/plain": [
       "3.6412936068015513"
      ]
     },
     "execution_count": 28,
     "metadata": {},
     "output_type": "execute_result"
    }
   ],
   "source": [
    "# Bottom of t - the standard error of the top part\n",
    "design_part = c.dot(npl.inv(X.T.dot(X))).dot(c)\n",
    "bottom_of_t = np.sqrt(fsl_variance * design_part)\n",
    "bottom_of_t"
   ]
  },
  {
   "cell_type": "code",
   "execution_count": 29,
   "metadata": {},
   "outputs": [
    {
     "data": {
      "text/plain": [
       "7.589842692666069"
      ]
     },
     "execution_count": 29,
     "metadata": {},
     "output_type": "execute_result"
    }
   ],
   "source": [
    "t = top_of_t / bottom_of_t\n",
    "t"
   ]
  },
  {
   "cell_type": "markdown",
   "metadata": {},
   "source": [
    "What does FSL get for this voxel?"
   ]
  },
  {
   "cell_type": "code",
   "execution_count": 30,
   "metadata": {},
   "outputs": [
    {
     "data": {
      "text/plain": [
       "7.589842796325684"
      ]
     },
     "execution_count": 30,
     "metadata": {},
     "output_type": "execute_result"
    }
   ],
   "source": [
    "t_fname = pjoin(stats_dir, 'tstat1.nii.gz')\n",
    "t_img = nib.load(t_fname)\n",
    "t_data = t_img.get_fdata()\n",
    "t_data[42, 32, 19]"
   ]
  },
  {
   "cell_type": "markdown",
   "metadata": {},
   "source": [
    "Finally, the z value.  From FSL:"
   ]
  },
  {
   "cell_type": "code",
   "execution_count": 31,
   "metadata": {},
   "outputs": [
    {
     "data": {
      "text/plain": [
       "7.036045551300049"
      ]
     },
     "execution_count": 31,
     "metadata": {},
     "output_type": "execute_result"
    }
   ],
   "source": [
    "z_fname = pjoin(stats_dir, 'zstat1.nii.gz')\n",
    "z_img = nib.load(z_fname)\n",
    "z_data = z_img.get_fdata()\n",
    "z_data[42, 32, 19]"
   ]
  },
  {
   "cell_type": "markdown",
   "metadata": {},
   "source": [
    "This comes about from the p value for the t statistic, transformed back to a Z score:"
   ]
  },
  {
   "cell_type": "code",
   "execution_count": 32,
   "metadata": {},
   "outputs": [
    {
     "data": {
      "text/plain": [
       "9.695004018853872e-13"
      ]
     },
     "execution_count": 32,
     "metadata": {},
     "output_type": "execute_result"
    }
   ],
   "source": [
    "# Get p value from t distribution\n",
    "import scipy.stats as sps  # Statistical distributions\n",
    "p = sps.t(fsl_df).sf(t)  # Survival function (1-cdf)\n",
    "p"
   ]
  },
  {
   "cell_type": "code",
   "execution_count": 33,
   "metadata": {},
   "outputs": [
    {
     "data": {
      "text/plain": [
       "7.038801702666201"
      ]
     },
     "execution_count": 33,
     "metadata": {},
     "output_type": "execute_result"
    }
   ],
   "source": [
    "# Get matching z score from p value\n",
    "z = sps.norm().isf(p)  # The Inverse Survival Function\n",
    "z"
   ]
  },
  {
   "cell_type": "markdown",
   "metadata": {},
   "source": [
    "Save these files out to check that R gives the same values:"
   ]
  },
  {
   "cell_type": "code",
   "execution_count": 34,
   "metadata": {},
   "outputs": [],
   "source": [
    "np.savetxt('voxel_time_course.txt', voxel_time_course)\n",
    "np.savetxt('regressor.txt', regressor)"
   ]
  },
  {
   "cell_type": "markdown",
   "metadata": {},
   "source": [
    "Here is the R code to do a simple regression on those data files:\n",
    "\n",
    "```\n",
    "# Simple regression model in R\n",
    "# Load the voxel time course\n",
    "voxels = read.table('voxel_time_course.txt')$V1\n",
    "# Load the convolved regressor\n",
    "regressor = read.table('regressor.txt')$V1\n",
    "# Fit linear model, where intercept is automatically added\n",
    "res = lm(voxels ~ regressor)\n",
    "# Show the result\n",
    "print(summary(res))\n",
    "```"
   ]
  },
  {
   "cell_type": "markdown",
   "metadata": {},
   "source": [
    "On my machine that gives:\n",
    "\n",
    "```\n",
    "Call:\n",
    "lm(formula = voxels ~ regressor)\n",
    "\n",
    "Residuals:\n",
    "    Min      1Q  Median      3Q     Max \n",
    "-55.435 -10.818  -2.201   9.052 248.627 \n",
    "\n",
    "Coefficients:\n",
    "            Estimate Std. Error  t value Pr(>|t|)    \n",
    "(Intercept) 2044.792      1.868 1094.443  < 2e-16 ***\n",
    "regressor     27.637      3.652    7.568 2.25e-12 ***\n",
    "---\n",
    "Signif. codes:  0 ‘***’ 0.001 ‘**’ 0.01 ‘*’ 0.05 ‘.’ 0.1 ‘ ’ 1\n",
    "\n",
    "Residual standard error: 24.57 on 171 degrees of freedom\n",
    "Multiple R-squared:  0.2509,\tAdjusted R-squared:  0.2465 \n",
    "F-statistic: 57.27 on 1 and 171 DF,  p-value: 2.247e-12\n",
    "```"
   ]
  },
  {
   "cell_type": "code",
   "execution_count": 35,
   "metadata": {},
   "outputs": [
    {
     "data": {
      "text/plain": [
       "24.574178620166876"
      ]
     },
     "execution_count": 35,
     "metadata": {},
     "output_type": "execute_result"
    }
   ],
   "source": [
    "# The residual standard error\n",
    "np.sqrt(variance)"
   ]
  }
 ],
 "metadata": {
  "jupytext": {
   "text_representation": {
    "extension": ".Rmd",
    "format_name": "rmarkdown",
    "format_version": "1.0",
    "jupytext_version": "0.8.5"
   }
  },
  "kernelspec": {
   "display_name": "Python 3",
   "language": "python",
   "name": "python3"
  },
  "language_info": {
   "codemirror_mode": {
    "name": "ipython",
    "version": 3
   },
   "file_extension": ".py",
   "mimetype": "text/x-python",
   "name": "python",
   "nbconvert_exporter": "python",
   "pygments_lexer": "ipython3",
   "version": "3.7.1"
  }
 },
 "nbformat": 4,
 "nbformat_minor": 2
}
